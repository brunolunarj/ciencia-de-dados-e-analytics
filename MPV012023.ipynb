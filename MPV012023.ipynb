{
  "nbformat": 4,
  "nbformat_minor": 0,
  "metadata": {
    "colab": {
      "provenance": [],
      "authorship_tag": "ABX9TyP6I7RtPzKKz6gET9tZeONM",
      "include_colab_link": true
    },
    "kernelspec": {
      "name": "python3",
      "display_name": "Python 3"
    },
    "language_info": {
      "name": "python"
    }
  },
  "cells": [
    {
      "cell_type": "markdown",
      "metadata": {
        "id": "view-in-github",
        "colab_type": "text"
      },
      "source": [
        "<a href=\"https://colab.research.google.com/github/brunolunarj/ciencia-de-dados-e-analytics/blob/main/MPV012023.ipynb\" target=\"_parent\"><img src=\"https://colab.research.google.com/assets/colab-badge.svg\" alt=\"Open In Colab\"/></a>"
      ]
    },
    {
      "cell_type": "markdown",
      "source": [
        "# **MVP PUCRIO - Sprint I: Análise de Dados e Boas Práticas**"
      ],
      "metadata": {
        "id": "8GQnMcSEf1dm"
      }
    },
    {
      "cell_type": "markdown",
      "source": [
        "## 1 - DEFINIÇÃO DO PROBLEMA\n",
        "---\n",
        "\n",
        "\n"
      ],
      "metadata": {
        "id": "_-5DmxCOih5k"
      }
    },
    {
      "cell_type": "markdown",
      "source": [
        "Fazer análise dos dados Previdenciários dos benefícios de **Auxílio-Doença e Auxílio-Doença por Acidente de trabalho, *CONCEDIDOS* no ano de 2022** pelo **INSS** e verificar insigts para melhorar a análise e concessão dos benefícios por incapacidade. Os dados foram retirados do sistema de Banco de Dados interno nos moldes do fornecido no  Dados Abertos do Instituto (https://dados.gov.br/dados/organizacoes/visualizar/instituto-nacional-de-seguro-social-inss).\n",
        "\n",
        "O **Instituto Nacional de Seguro Social - INSS** caracteriza-se como uma organização pública prestadora de serviços previdenciários para a sociedade brasileira."
      ],
      "metadata": {
        "id": "tzzwtdvnivQ4"
      }
    },
    {
      "cell_type": "markdown",
      "source": [
        "**Dicionário de Dados - Atributos (COLUNAS)**\n",
        ">**0   Competência concessão** - Mês que foi concedido o benefício <br>\n",
        ">**1   Espécie** - Espécie do benefício Previdenciário <br>\n",
        ">**2   CID** - Codigo Internacional de Doenças <br>\n",
        ">**3   Despacho** - Tipo de concessão <br>\n",
        ">**4   Dt Nascimento** - Data de nascimento do benefício <br>\n",
        ">**5   Sexo.** - Sexo Masculino ou Feminino <br>\n",
        ">**6   Clientela** - Especificação do benefício por zona <br>\n",
        ">**7   Tipo de Cálculo** - Como é calculado do benefício <br>\n",
        ">**8   Mun. Resid.** - Município do Segurado do benefício <br>\n",
        ">**9   Estado** - Estado do Segurado do benefício <br>\n",
        ">**10  Forma Filiação** - Filiação do Segurado no momento da concessão <br>\n",
        ">**11  Qt SM RMI** - Quantidade de Salário Mínimo da RMI <br>"
      ],
      "metadata": {
        "id": "LWJ-fKIu507m"
      }
    },
    {
      "cell_type": "markdown",
      "source": [
        "## 2 - COLETA E ANÁLISE INICIAL DOS DADOS\n",
        "\n",
        "---\n",
        "\n"
      ],
      "metadata": {
        "id": "Ca0la90NzaZw"
      }
    },
    {
      "cell_type": "markdown",
      "source": [
        "### 2.1 - IMPORTAÇÃO DE PACOTES E COLETA DOS DADOS"
      ],
      "metadata": {
        "id": "AxCUuybijimP"
      }
    },
    {
      "cell_type": "code",
      "execution_count": 31,
      "metadata": {
        "colab": {
          "base_uri": "https://localhost:8080/",
          "height": 650
        },
        "id": "QHBQ2-oOfuoW",
        "outputId": "ee3ffb6b-d118-4da2-8d35-86f1d9ee4086"
      },
      "outputs": [
        {
          "output_type": "display_data",
          "data": {
            "text/plain": [
              "   Competência concessão                                        Espécie  \\\n",
              "0                 202201  Auxílio Doenca Previdenciário                   \n",
              "1                 202201  Auxílio Doenca Previdenciário                   \n",
              "\n",
              "                                             CID                Despacho  \\\n",
              "0  K40   Hernia Inguinal                          Revisao Administrativa   \n",
              "1  I25.9 Doenc Isquemica Cronica do Coracao Ne          Concessao Normal   \n",
              "\n",
              "  Dt Nascimento          Sexo. Clientela           Tipo de Cálculo  \\\n",
              "0    1970-05-23  Masculino      Urbano    Calculo na Dib sem Fator   \n",
              "1    1962-08-31  Masculino      Rural     Rmi Informada/Salã¡Rio M   \n",
              "\n",
              "                        Mun. Resid. Estado       Forma Filiação  Qt SM RMI  \n",
              "0  Arapiraca                            AL  Desempregado             1.183  \n",
              "1  Batalha                              AL  Segurado Especial        1.000  "
            ],
            "text/html": [
              "\n",
              "  <div id=\"df-998c4db0-8c0b-491f-a057-82ce86b171fa\">\n",
              "    <div class=\"colab-df-container\">\n",
              "      <div>\n",
              "<style scoped>\n",
              "    .dataframe tbody tr th:only-of-type {\n",
              "        vertical-align: middle;\n",
              "    }\n",
              "\n",
              "    .dataframe tbody tr th {\n",
              "        vertical-align: top;\n",
              "    }\n",
              "\n",
              "    .dataframe thead th {\n",
              "        text-align: right;\n",
              "    }\n",
              "</style>\n",
              "<table border=\"1\" class=\"dataframe\">\n",
              "  <thead>\n",
              "    <tr style=\"text-align: right;\">\n",
              "      <th></th>\n",
              "      <th>Competência concessão</th>\n",
              "      <th>Espécie</th>\n",
              "      <th>CID</th>\n",
              "      <th>Despacho</th>\n",
              "      <th>Dt Nascimento</th>\n",
              "      <th>Sexo.</th>\n",
              "      <th>Clientela</th>\n",
              "      <th>Tipo de Cálculo</th>\n",
              "      <th>Mun. Resid.</th>\n",
              "      <th>Estado</th>\n",
              "      <th>Forma Filiação</th>\n",
              "      <th>Qt SM RMI</th>\n",
              "    </tr>\n",
              "  </thead>\n",
              "  <tbody>\n",
              "    <tr>\n",
              "      <th>0</th>\n",
              "      <td>202201</td>\n",
              "      <td>Auxílio Doenca Previdenciário</td>\n",
              "      <td>K40   Hernia Inguinal</td>\n",
              "      <td>Revisao Administrativa</td>\n",
              "      <td>1970-05-23</td>\n",
              "      <td>Masculino</td>\n",
              "      <td>Urbano</td>\n",
              "      <td>Calculo na Dib sem Fator</td>\n",
              "      <td>Arapiraca</td>\n",
              "      <td>AL</td>\n",
              "      <td>Desempregado</td>\n",
              "      <td>1.183</td>\n",
              "    </tr>\n",
              "    <tr>\n",
              "      <th>1</th>\n",
              "      <td>202201</td>\n",
              "      <td>Auxílio Doenca Previdenciário</td>\n",
              "      <td>I25.9 Doenc Isquemica Cronica do Coracao Ne</td>\n",
              "      <td>Concessao Normal</td>\n",
              "      <td>1962-08-31</td>\n",
              "      <td>Masculino</td>\n",
              "      <td>Rural</td>\n",
              "      <td>Rmi Informada/Salã¡Rio M</td>\n",
              "      <td>Batalha</td>\n",
              "      <td>AL</td>\n",
              "      <td>Segurado Especial</td>\n",
              "      <td>1.000</td>\n",
              "    </tr>\n",
              "  </tbody>\n",
              "</table>\n",
              "</div>\n",
              "      <button class=\"colab-df-convert\" onclick=\"convertToInteractive('df-998c4db0-8c0b-491f-a057-82ce86b171fa')\"\n",
              "              title=\"Convert this dataframe to an interactive table.\"\n",
              "              style=\"display:none;\">\n",
              "        \n",
              "  <svg xmlns=\"http://www.w3.org/2000/svg\" height=\"24px\"viewBox=\"0 0 24 24\"\n",
              "       width=\"24px\">\n",
              "    <path d=\"M0 0h24v24H0V0z\" fill=\"none\"/>\n",
              "    <path d=\"M18.56 5.44l.94 2.06.94-2.06 2.06-.94-2.06-.94-.94-2.06-.94 2.06-2.06.94zm-11 1L8.5 8.5l.94-2.06 2.06-.94-2.06-.94L8.5 2.5l-.94 2.06-2.06.94zm10 10l.94 2.06.94-2.06 2.06-.94-2.06-.94-.94-2.06-.94 2.06-2.06.94z\"/><path d=\"M17.41 7.96l-1.37-1.37c-.4-.4-.92-.59-1.43-.59-.52 0-1.04.2-1.43.59L10.3 9.45l-7.72 7.72c-.78.78-.78 2.05 0 2.83L4 21.41c.39.39.9.59 1.41.59.51 0 1.02-.2 1.41-.59l7.78-7.78 2.81-2.81c.8-.78.8-2.07 0-2.86zM5.41 20L4 18.59l7.72-7.72 1.47 1.35L5.41 20z\"/>\n",
              "  </svg>\n",
              "      </button>\n",
              "      \n",
              "  <style>\n",
              "    .colab-df-container {\n",
              "      display:flex;\n",
              "      flex-wrap:wrap;\n",
              "      gap: 12px;\n",
              "    }\n",
              "\n",
              "    .colab-df-convert {\n",
              "      background-color: #E8F0FE;\n",
              "      border: none;\n",
              "      border-radius: 50%;\n",
              "      cursor: pointer;\n",
              "      display: none;\n",
              "      fill: #1967D2;\n",
              "      height: 32px;\n",
              "      padding: 0 0 0 0;\n",
              "      width: 32px;\n",
              "    }\n",
              "\n",
              "    .colab-df-convert:hover {\n",
              "      background-color: #E2EBFA;\n",
              "      box-shadow: 0px 1px 2px rgba(60, 64, 67, 0.3), 0px 1px 3px 1px rgba(60, 64, 67, 0.15);\n",
              "      fill: #174EA6;\n",
              "    }\n",
              "\n",
              "    [theme=dark] .colab-df-convert {\n",
              "      background-color: #3B4455;\n",
              "      fill: #D2E3FC;\n",
              "    }\n",
              "\n",
              "    [theme=dark] .colab-df-convert:hover {\n",
              "      background-color: #434B5C;\n",
              "      box-shadow: 0px 1px 3px 1px rgba(0, 0, 0, 0.15);\n",
              "      filter: drop-shadow(0px 1px 2px rgba(0, 0, 0, 0.3));\n",
              "      fill: #FFFFFF;\n",
              "    }\n",
              "  </style>\n",
              "\n",
              "      <script>\n",
              "        const buttonEl =\n",
              "          document.querySelector('#df-998c4db0-8c0b-491f-a057-82ce86b171fa button.colab-df-convert');\n",
              "        buttonEl.style.display =\n",
              "          google.colab.kernel.accessAllowed ? 'block' : 'none';\n",
              "\n",
              "        async function convertToInteractive(key) {\n",
              "          const element = document.querySelector('#df-998c4db0-8c0b-491f-a057-82ce86b171fa');\n",
              "          const dataTable =\n",
              "            await google.colab.kernel.invokeFunction('convertToInteractive',\n",
              "                                                     [key], {});\n",
              "          if (!dataTable) return;\n",
              "\n",
              "          const docLinkHtml = 'Like what you see? Visit the ' +\n",
              "            '<a target=\"_blank\" href=https://colab.research.google.com/notebooks/data_table.ipynb>data table notebook</a>'\n",
              "            + ' to learn more about interactive tables.';\n",
              "          element.innerHTML = '';\n",
              "          dataTable['output_type'] = 'display_data';\n",
              "          await google.colab.output.renderOutput(dataTable, element);\n",
              "          const docLink = document.createElement('div');\n",
              "          docLink.innerHTML = docLinkHtml;\n",
              "          element.appendChild(docLink);\n",
              "        }\n",
              "      </script>\n",
              "    </div>\n",
              "  </div>\n",
              "  "
            ]
          },
          "metadata": {}
        },
        {
          "output_type": "display_data",
          "data": {
            "text/plain": [
              "   Competência concessão                                        Espécie  \\\n",
              "0                 202204  Auxílio Doenca Previdenciário                   \n",
              "1                 202204  Auxílio Doenca Previdenciário                   \n",
              "\n",
              "                                             CID          Despacho  \\\n",
              "0  T92.8 Sequelas de Outr Traum Espec do Membro   Concessao Normal   \n",
              "1  S52.2 Frat da Diafise do Cubito                Concessao Normal   \n",
              "\n",
              "  Dt Nascimento          Sexo. Clientela           Tipo de Cálculo  \\\n",
              "0    1968-02-08  Feminino       Urbano    Calculo na Dib sem Fator   \n",
              "1    1998-01-15  Masculino      Urbano    Calculo na Dib sem Fator   \n",
              "\n",
              "                        Mun. Resid. Estado       Forma Filiação  Qt SM RMI  \n",
              "0  Maceió                               AL  Doméstico                1.000  \n",
              "1  Maceió                               AL  Desempregado             1.305  "
            ],
            "text/html": [
              "\n",
              "  <div id=\"df-de49623f-cc55-45a9-b904-f237408153ae\">\n",
              "    <div class=\"colab-df-container\">\n",
              "      <div>\n",
              "<style scoped>\n",
              "    .dataframe tbody tr th:only-of-type {\n",
              "        vertical-align: middle;\n",
              "    }\n",
              "\n",
              "    .dataframe tbody tr th {\n",
              "        vertical-align: top;\n",
              "    }\n",
              "\n",
              "    .dataframe thead th {\n",
              "        text-align: right;\n",
              "    }\n",
              "</style>\n",
              "<table border=\"1\" class=\"dataframe\">\n",
              "  <thead>\n",
              "    <tr style=\"text-align: right;\">\n",
              "      <th></th>\n",
              "      <th>Competência concessão</th>\n",
              "      <th>Espécie</th>\n",
              "      <th>CID</th>\n",
              "      <th>Despacho</th>\n",
              "      <th>Dt Nascimento</th>\n",
              "      <th>Sexo.</th>\n",
              "      <th>Clientela</th>\n",
              "      <th>Tipo de Cálculo</th>\n",
              "      <th>Mun. Resid.</th>\n",
              "      <th>Estado</th>\n",
              "      <th>Forma Filiação</th>\n",
              "      <th>Qt SM RMI</th>\n",
              "    </tr>\n",
              "  </thead>\n",
              "  <tbody>\n",
              "    <tr>\n",
              "      <th>0</th>\n",
              "      <td>202204</td>\n",
              "      <td>Auxílio Doenca Previdenciário</td>\n",
              "      <td>T92.8 Sequelas de Outr Traum Espec do Membro</td>\n",
              "      <td>Concessao Normal</td>\n",
              "      <td>1968-02-08</td>\n",
              "      <td>Feminino</td>\n",
              "      <td>Urbano</td>\n",
              "      <td>Calculo na Dib sem Fator</td>\n",
              "      <td>Maceió</td>\n",
              "      <td>AL</td>\n",
              "      <td>Doméstico</td>\n",
              "      <td>1.000</td>\n",
              "    </tr>\n",
              "    <tr>\n",
              "      <th>1</th>\n",
              "      <td>202204</td>\n",
              "      <td>Auxílio Doenca Previdenciário</td>\n",
              "      <td>S52.2 Frat da Diafise do Cubito</td>\n",
              "      <td>Concessao Normal</td>\n",
              "      <td>1998-01-15</td>\n",
              "      <td>Masculino</td>\n",
              "      <td>Urbano</td>\n",
              "      <td>Calculo na Dib sem Fator</td>\n",
              "      <td>Maceió</td>\n",
              "      <td>AL</td>\n",
              "      <td>Desempregado</td>\n",
              "      <td>1.305</td>\n",
              "    </tr>\n",
              "  </tbody>\n",
              "</table>\n",
              "</div>\n",
              "      <button class=\"colab-df-convert\" onclick=\"convertToInteractive('df-de49623f-cc55-45a9-b904-f237408153ae')\"\n",
              "              title=\"Convert this dataframe to an interactive table.\"\n",
              "              style=\"display:none;\">\n",
              "        \n",
              "  <svg xmlns=\"http://www.w3.org/2000/svg\" height=\"24px\"viewBox=\"0 0 24 24\"\n",
              "       width=\"24px\">\n",
              "    <path d=\"M0 0h24v24H0V0z\" fill=\"none\"/>\n",
              "    <path d=\"M18.56 5.44l.94 2.06.94-2.06 2.06-.94-2.06-.94-.94-2.06-.94 2.06-2.06.94zm-11 1L8.5 8.5l.94-2.06 2.06-.94-2.06-.94L8.5 2.5l-.94 2.06-2.06.94zm10 10l.94 2.06.94-2.06 2.06-.94-2.06-.94-.94-2.06-.94 2.06-2.06.94z\"/><path d=\"M17.41 7.96l-1.37-1.37c-.4-.4-.92-.59-1.43-.59-.52 0-1.04.2-1.43.59L10.3 9.45l-7.72 7.72c-.78.78-.78 2.05 0 2.83L4 21.41c.39.39.9.59 1.41.59.51 0 1.02-.2 1.41-.59l7.78-7.78 2.81-2.81c.8-.78.8-2.07 0-2.86zM5.41 20L4 18.59l7.72-7.72 1.47 1.35L5.41 20z\"/>\n",
              "  </svg>\n",
              "      </button>\n",
              "      \n",
              "  <style>\n",
              "    .colab-df-container {\n",
              "      display:flex;\n",
              "      flex-wrap:wrap;\n",
              "      gap: 12px;\n",
              "    }\n",
              "\n",
              "    .colab-df-convert {\n",
              "      background-color: #E8F0FE;\n",
              "      border: none;\n",
              "      border-radius: 50%;\n",
              "      cursor: pointer;\n",
              "      display: none;\n",
              "      fill: #1967D2;\n",
              "      height: 32px;\n",
              "      padding: 0 0 0 0;\n",
              "      width: 32px;\n",
              "    }\n",
              "\n",
              "    .colab-df-convert:hover {\n",
              "      background-color: #E2EBFA;\n",
              "      box-shadow: 0px 1px 2px rgba(60, 64, 67, 0.3), 0px 1px 3px 1px rgba(60, 64, 67, 0.15);\n",
              "      fill: #174EA6;\n",
              "    }\n",
              "\n",
              "    [theme=dark] .colab-df-convert {\n",
              "      background-color: #3B4455;\n",
              "      fill: #D2E3FC;\n",
              "    }\n",
              "\n",
              "    [theme=dark] .colab-df-convert:hover {\n",
              "      background-color: #434B5C;\n",
              "      box-shadow: 0px 1px 3px 1px rgba(0, 0, 0, 0.15);\n",
              "      filter: drop-shadow(0px 1px 2px rgba(0, 0, 0, 0.3));\n",
              "      fill: #FFFFFF;\n",
              "    }\n",
              "  </style>\n",
              "\n",
              "      <script>\n",
              "        const buttonEl =\n",
              "          document.querySelector('#df-de49623f-cc55-45a9-b904-f237408153ae button.colab-df-convert');\n",
              "        buttonEl.style.display =\n",
              "          google.colab.kernel.accessAllowed ? 'block' : 'none';\n",
              "\n",
              "        async function convertToInteractive(key) {\n",
              "          const element = document.querySelector('#df-de49623f-cc55-45a9-b904-f237408153ae');\n",
              "          const dataTable =\n",
              "            await google.colab.kernel.invokeFunction('convertToInteractive',\n",
              "                                                     [key], {});\n",
              "          if (!dataTable) return;\n",
              "\n",
              "          const docLinkHtml = 'Like what you see? Visit the ' +\n",
              "            '<a target=\"_blank\" href=https://colab.research.google.com/notebooks/data_table.ipynb>data table notebook</a>'\n",
              "            + ' to learn more about interactive tables.';\n",
              "          element.innerHTML = '';\n",
              "          dataTable['output_type'] = 'display_data';\n",
              "          await google.colab.output.renderOutput(dataTable, element);\n",
              "          const docLink = document.createElement('div');\n",
              "          docLink.innerHTML = docLinkHtml;\n",
              "          element.appendChild(docLink);\n",
              "        }\n",
              "      </script>\n",
              "    </div>\n",
              "  </div>\n",
              "  "
            ]
          },
          "metadata": {}
        },
        {
          "output_type": "display_data",
          "data": {
            "text/plain": [
              "   Competência concessão                                        Espécie  \\\n",
              "0                 202207  Auxílio Doenca Previdenciário                   \n",
              "1                 202207  Auxílio Doenca Previdenciário                   \n",
              "\n",
              "                                             CID          Despacho  \\\n",
              "0  S42.2 Frat da Extremidade Super do Umero       Concessao Normal   \n",
              "1  T93.1 Sequelas de Frat do Femur                Concessao Normal   \n",
              "\n",
              "  Dt Nascimento          Sexo. Clientela           Tipo de Cálculo  \\\n",
              "0    2000-12-30  Masculino      Urbano    Calculo na Dib sem Fator   \n",
              "1    1974-08-26  Masculino      Urbano    Calculo na Dib sem Fator   \n",
              "\n",
              "                        Mun. Resid. Estado       Forma Filiação  Qt SM RMI  \n",
              "0  Arapiraca                            AL  Autônomo                   1.0  \n",
              "1  Delmiro Gouveia                      AL  Desempregado               1.0  "
            ],
            "text/html": [
              "\n",
              "  <div id=\"df-55250c1d-fa65-4e50-8628-ea9614f4e562\">\n",
              "    <div class=\"colab-df-container\">\n",
              "      <div>\n",
              "<style scoped>\n",
              "    .dataframe tbody tr th:only-of-type {\n",
              "        vertical-align: middle;\n",
              "    }\n",
              "\n",
              "    .dataframe tbody tr th {\n",
              "        vertical-align: top;\n",
              "    }\n",
              "\n",
              "    .dataframe thead th {\n",
              "        text-align: right;\n",
              "    }\n",
              "</style>\n",
              "<table border=\"1\" class=\"dataframe\">\n",
              "  <thead>\n",
              "    <tr style=\"text-align: right;\">\n",
              "      <th></th>\n",
              "      <th>Competência concessão</th>\n",
              "      <th>Espécie</th>\n",
              "      <th>CID</th>\n",
              "      <th>Despacho</th>\n",
              "      <th>Dt Nascimento</th>\n",
              "      <th>Sexo.</th>\n",
              "      <th>Clientela</th>\n",
              "      <th>Tipo de Cálculo</th>\n",
              "      <th>Mun. Resid.</th>\n",
              "      <th>Estado</th>\n",
              "      <th>Forma Filiação</th>\n",
              "      <th>Qt SM RMI</th>\n",
              "    </tr>\n",
              "  </thead>\n",
              "  <tbody>\n",
              "    <tr>\n",
              "      <th>0</th>\n",
              "      <td>202207</td>\n",
              "      <td>Auxílio Doenca Previdenciário</td>\n",
              "      <td>S42.2 Frat da Extremidade Super do Umero</td>\n",
              "      <td>Concessao Normal</td>\n",
              "      <td>2000-12-30</td>\n",
              "      <td>Masculino</td>\n",
              "      <td>Urbano</td>\n",
              "      <td>Calculo na Dib sem Fator</td>\n",
              "      <td>Arapiraca</td>\n",
              "      <td>AL</td>\n",
              "      <td>Autônomo</td>\n",
              "      <td>1.0</td>\n",
              "    </tr>\n",
              "    <tr>\n",
              "      <th>1</th>\n",
              "      <td>202207</td>\n",
              "      <td>Auxílio Doenca Previdenciário</td>\n",
              "      <td>T93.1 Sequelas de Frat do Femur</td>\n",
              "      <td>Concessao Normal</td>\n",
              "      <td>1974-08-26</td>\n",
              "      <td>Masculino</td>\n",
              "      <td>Urbano</td>\n",
              "      <td>Calculo na Dib sem Fator</td>\n",
              "      <td>Delmiro Gouveia</td>\n",
              "      <td>AL</td>\n",
              "      <td>Desempregado</td>\n",
              "      <td>1.0</td>\n",
              "    </tr>\n",
              "  </tbody>\n",
              "</table>\n",
              "</div>\n",
              "      <button class=\"colab-df-convert\" onclick=\"convertToInteractive('df-55250c1d-fa65-4e50-8628-ea9614f4e562')\"\n",
              "              title=\"Convert this dataframe to an interactive table.\"\n",
              "              style=\"display:none;\">\n",
              "        \n",
              "  <svg xmlns=\"http://www.w3.org/2000/svg\" height=\"24px\"viewBox=\"0 0 24 24\"\n",
              "       width=\"24px\">\n",
              "    <path d=\"M0 0h24v24H0V0z\" fill=\"none\"/>\n",
              "    <path d=\"M18.56 5.44l.94 2.06.94-2.06 2.06-.94-2.06-.94-.94-2.06-.94 2.06-2.06.94zm-11 1L8.5 8.5l.94-2.06 2.06-.94-2.06-.94L8.5 2.5l-.94 2.06-2.06.94zm10 10l.94 2.06.94-2.06 2.06-.94-2.06-.94-.94-2.06-.94 2.06-2.06.94z\"/><path d=\"M17.41 7.96l-1.37-1.37c-.4-.4-.92-.59-1.43-.59-.52 0-1.04.2-1.43.59L10.3 9.45l-7.72 7.72c-.78.78-.78 2.05 0 2.83L4 21.41c.39.39.9.59 1.41.59.51 0 1.02-.2 1.41-.59l7.78-7.78 2.81-2.81c.8-.78.8-2.07 0-2.86zM5.41 20L4 18.59l7.72-7.72 1.47 1.35L5.41 20z\"/>\n",
              "  </svg>\n",
              "      </button>\n",
              "      \n",
              "  <style>\n",
              "    .colab-df-container {\n",
              "      display:flex;\n",
              "      flex-wrap:wrap;\n",
              "      gap: 12px;\n",
              "    }\n",
              "\n",
              "    .colab-df-convert {\n",
              "      background-color: #E8F0FE;\n",
              "      border: none;\n",
              "      border-radius: 50%;\n",
              "      cursor: pointer;\n",
              "      display: none;\n",
              "      fill: #1967D2;\n",
              "      height: 32px;\n",
              "      padding: 0 0 0 0;\n",
              "      width: 32px;\n",
              "    }\n",
              "\n",
              "    .colab-df-convert:hover {\n",
              "      background-color: #E2EBFA;\n",
              "      box-shadow: 0px 1px 2px rgba(60, 64, 67, 0.3), 0px 1px 3px 1px rgba(60, 64, 67, 0.15);\n",
              "      fill: #174EA6;\n",
              "    }\n",
              "\n",
              "    [theme=dark] .colab-df-convert {\n",
              "      background-color: #3B4455;\n",
              "      fill: #D2E3FC;\n",
              "    }\n",
              "\n",
              "    [theme=dark] .colab-df-convert:hover {\n",
              "      background-color: #434B5C;\n",
              "      box-shadow: 0px 1px 3px 1px rgba(0, 0, 0, 0.15);\n",
              "      filter: drop-shadow(0px 1px 2px rgba(0, 0, 0, 0.3));\n",
              "      fill: #FFFFFF;\n",
              "    }\n",
              "  </style>\n",
              "\n",
              "      <script>\n",
              "        const buttonEl =\n",
              "          document.querySelector('#df-55250c1d-fa65-4e50-8628-ea9614f4e562 button.colab-df-convert');\n",
              "        buttonEl.style.display =\n",
              "          google.colab.kernel.accessAllowed ? 'block' : 'none';\n",
              "\n",
              "        async function convertToInteractive(key) {\n",
              "          const element = document.querySelector('#df-55250c1d-fa65-4e50-8628-ea9614f4e562');\n",
              "          const dataTable =\n",
              "            await google.colab.kernel.invokeFunction('convertToInteractive',\n",
              "                                                     [key], {});\n",
              "          if (!dataTable) return;\n",
              "\n",
              "          const docLinkHtml = 'Like what you see? Visit the ' +\n",
              "            '<a target=\"_blank\" href=https://colab.research.google.com/notebooks/data_table.ipynb>data table notebook</a>'\n",
              "            + ' to learn more about interactive tables.';\n",
              "          element.innerHTML = '';\n",
              "          dataTable['output_type'] = 'display_data';\n",
              "          await google.colab.output.renderOutput(dataTable, element);\n",
              "          const docLink = document.createElement('div');\n",
              "          docLink.innerHTML = docLinkHtml;\n",
              "          element.appendChild(docLink);\n",
              "        }\n",
              "      </script>\n",
              "    </div>\n",
              "  </div>\n",
              "  "
            ]
          },
          "metadata": {}
        },
        {
          "output_type": "display_data",
          "data": {
            "text/plain": [
              "   Competência concessão                                        Espécie  \\\n",
              "0                 202210  Auxílio Doenca Previdenciário                   \n",
              "1                 202210  Auxílio Doenca Previdenciário                   \n",
              "\n",
              "                                             CID                Despacho  \\\n",
              "0  S92.0 Frat do Calcaneo                               Concessao Normal   \n",
              "1  N20   Calculose do Rim e do Ureter             Revisao Administrativa   \n",
              "\n",
              "  Dt Nascimento          Sexo. Clientela           Tipo de Cálculo  \\\n",
              "0    1972-11-14  Feminino       Urbano    Calculo na Dib sem Fator   \n",
              "1    1972-04-20  Feminino       Urbano    Calculo na Dib sem Fator   \n",
              "\n",
              "                        Mun. Resid. Estado       Forma Filiação  Qt SM RMI  \n",
              "0  São Paulo                            SP  Desempregado               1.0  \n",
              "1  Arapiraca                            AL  Empregado                  1.0  "
            ],
            "text/html": [
              "\n",
              "  <div id=\"df-b9d56e54-6d6c-47dd-98b6-e8e2c64d83c3\">\n",
              "    <div class=\"colab-df-container\">\n",
              "      <div>\n",
              "<style scoped>\n",
              "    .dataframe tbody tr th:only-of-type {\n",
              "        vertical-align: middle;\n",
              "    }\n",
              "\n",
              "    .dataframe tbody tr th {\n",
              "        vertical-align: top;\n",
              "    }\n",
              "\n",
              "    .dataframe thead th {\n",
              "        text-align: right;\n",
              "    }\n",
              "</style>\n",
              "<table border=\"1\" class=\"dataframe\">\n",
              "  <thead>\n",
              "    <tr style=\"text-align: right;\">\n",
              "      <th></th>\n",
              "      <th>Competência concessão</th>\n",
              "      <th>Espécie</th>\n",
              "      <th>CID</th>\n",
              "      <th>Despacho</th>\n",
              "      <th>Dt Nascimento</th>\n",
              "      <th>Sexo.</th>\n",
              "      <th>Clientela</th>\n",
              "      <th>Tipo de Cálculo</th>\n",
              "      <th>Mun. Resid.</th>\n",
              "      <th>Estado</th>\n",
              "      <th>Forma Filiação</th>\n",
              "      <th>Qt SM RMI</th>\n",
              "    </tr>\n",
              "  </thead>\n",
              "  <tbody>\n",
              "    <tr>\n",
              "      <th>0</th>\n",
              "      <td>202210</td>\n",
              "      <td>Auxílio Doenca Previdenciário</td>\n",
              "      <td>S92.0 Frat do Calcaneo</td>\n",
              "      <td>Concessao Normal</td>\n",
              "      <td>1972-11-14</td>\n",
              "      <td>Feminino</td>\n",
              "      <td>Urbano</td>\n",
              "      <td>Calculo na Dib sem Fator</td>\n",
              "      <td>São Paulo</td>\n",
              "      <td>SP</td>\n",
              "      <td>Desempregado</td>\n",
              "      <td>1.0</td>\n",
              "    </tr>\n",
              "    <tr>\n",
              "      <th>1</th>\n",
              "      <td>202210</td>\n",
              "      <td>Auxílio Doenca Previdenciário</td>\n",
              "      <td>N20   Calculose do Rim e do Ureter</td>\n",
              "      <td>Revisao Administrativa</td>\n",
              "      <td>1972-04-20</td>\n",
              "      <td>Feminino</td>\n",
              "      <td>Urbano</td>\n",
              "      <td>Calculo na Dib sem Fator</td>\n",
              "      <td>Arapiraca</td>\n",
              "      <td>AL</td>\n",
              "      <td>Empregado</td>\n",
              "      <td>1.0</td>\n",
              "    </tr>\n",
              "  </tbody>\n",
              "</table>\n",
              "</div>\n",
              "      <button class=\"colab-df-convert\" onclick=\"convertToInteractive('df-b9d56e54-6d6c-47dd-98b6-e8e2c64d83c3')\"\n",
              "              title=\"Convert this dataframe to an interactive table.\"\n",
              "              style=\"display:none;\">\n",
              "        \n",
              "  <svg xmlns=\"http://www.w3.org/2000/svg\" height=\"24px\"viewBox=\"0 0 24 24\"\n",
              "       width=\"24px\">\n",
              "    <path d=\"M0 0h24v24H0V0z\" fill=\"none\"/>\n",
              "    <path d=\"M18.56 5.44l.94 2.06.94-2.06 2.06-.94-2.06-.94-.94-2.06-.94 2.06-2.06.94zm-11 1L8.5 8.5l.94-2.06 2.06-.94-2.06-.94L8.5 2.5l-.94 2.06-2.06.94zm10 10l.94 2.06.94-2.06 2.06-.94-2.06-.94-.94-2.06-.94 2.06-2.06.94z\"/><path d=\"M17.41 7.96l-1.37-1.37c-.4-.4-.92-.59-1.43-.59-.52 0-1.04.2-1.43.59L10.3 9.45l-7.72 7.72c-.78.78-.78 2.05 0 2.83L4 21.41c.39.39.9.59 1.41.59.51 0 1.02-.2 1.41-.59l7.78-7.78 2.81-2.81c.8-.78.8-2.07 0-2.86zM5.41 20L4 18.59l7.72-7.72 1.47 1.35L5.41 20z\"/>\n",
              "  </svg>\n",
              "      </button>\n",
              "      \n",
              "  <style>\n",
              "    .colab-df-container {\n",
              "      display:flex;\n",
              "      flex-wrap:wrap;\n",
              "      gap: 12px;\n",
              "    }\n",
              "\n",
              "    .colab-df-convert {\n",
              "      background-color: #E8F0FE;\n",
              "      border: none;\n",
              "      border-radius: 50%;\n",
              "      cursor: pointer;\n",
              "      display: none;\n",
              "      fill: #1967D2;\n",
              "      height: 32px;\n",
              "      padding: 0 0 0 0;\n",
              "      width: 32px;\n",
              "    }\n",
              "\n",
              "    .colab-df-convert:hover {\n",
              "      background-color: #E2EBFA;\n",
              "      box-shadow: 0px 1px 2px rgba(60, 64, 67, 0.3), 0px 1px 3px 1px rgba(60, 64, 67, 0.15);\n",
              "      fill: #174EA6;\n",
              "    }\n",
              "\n",
              "    [theme=dark] .colab-df-convert {\n",
              "      background-color: #3B4455;\n",
              "      fill: #D2E3FC;\n",
              "    }\n",
              "\n",
              "    [theme=dark] .colab-df-convert:hover {\n",
              "      background-color: #434B5C;\n",
              "      box-shadow: 0px 1px 3px 1px rgba(0, 0, 0, 0.15);\n",
              "      filter: drop-shadow(0px 1px 2px rgba(0, 0, 0, 0.3));\n",
              "      fill: #FFFFFF;\n",
              "    }\n",
              "  </style>\n",
              "\n",
              "      <script>\n",
              "        const buttonEl =\n",
              "          document.querySelector('#df-b9d56e54-6d6c-47dd-98b6-e8e2c64d83c3 button.colab-df-convert');\n",
              "        buttonEl.style.display =\n",
              "          google.colab.kernel.accessAllowed ? 'block' : 'none';\n",
              "\n",
              "        async function convertToInteractive(key) {\n",
              "          const element = document.querySelector('#df-b9d56e54-6d6c-47dd-98b6-e8e2c64d83c3');\n",
              "          const dataTable =\n",
              "            await google.colab.kernel.invokeFunction('convertToInteractive',\n",
              "                                                     [key], {});\n",
              "          if (!dataTable) return;\n",
              "\n",
              "          const docLinkHtml = 'Like what you see? Visit the ' +\n",
              "            '<a target=\"_blank\" href=https://colab.research.google.com/notebooks/data_table.ipynb>data table notebook</a>'\n",
              "            + ' to learn more about interactive tables.';\n",
              "          element.innerHTML = '';\n",
              "          dataTable['output_type'] = 'display_data';\n",
              "          await google.colab.output.renderOutput(dataTable, element);\n",
              "          const docLink = document.createElement('div');\n",
              "          docLink.innerHTML = docLinkHtml;\n",
              "          element.appendChild(docLink);\n",
              "        }\n",
              "      </script>\n",
              "    </div>\n",
              "  </div>\n",
              "  "
            ]
          },
          "metadata": {}
        }
      ],
      "source": [
        "# Importação de pacotes\n",
        "import pandas as pd\n",
        "import numpy as np\n",
        "import matplotlib.pyplot as plt\n",
        "import seaborn as sns\n",
        "from tqdm import tqdm\n",
        "#from google.colab import drive\n",
        "\n",
        "#Carregando planilhas do Excel com os dados em dataframes\n",
        "df_ben1 =  pd.read_excel('https://github.com/brunolunarj/cienciadedados/blob/d3d94b0a5b2dd1a5aff4d85bf269c67390e23927/Con2022/CONC012022.xlsx?raw=true')\n",
        "#pbar = tqdm(4, position=0, leave=True)\n",
        "#pbar.update()\n",
        "df_ben2 =  pd.read_excel('https://github.com/brunolunarj/cienciadedados/blob/d3d94b0a5b2dd1a5aff4d85bf269c67390e23927/Con2022/CONC022022.xlsx?raw=true')\n",
        "#pbar.update()\n",
        "df_ben3 =  pd.read_excel('https://github.com/brunolunarj/cienciadedados/blob/d3d94b0a5b2dd1a5aff4d85bf269c67390e23927/Con2022/CONC032022.xlsx?raw=true')\n",
        "#pbar.update()\n",
        "df_ben4 =  pd.read_excel('https://github.com/brunolunarj/cienciadedados/blob/d3d94b0a5b2dd1a5aff4d85bf269c67390e23927/Con2022/CONC042022.xlsx?raw=true')\n",
        "#pbar.update()\n",
        "df_ben4.shape\n",
        "display(df_ben1[:2])\n",
        "display(df_ben2[:2])\n",
        "display(df_ben3[:2])\n",
        "display(df_ben4[:2])"
      ]
    },
    {
      "cell_type": "markdown",
      "source": [
        "### 2.2 - JUNTANDO AS PLANILHAS\n"
      ],
      "metadata": {
        "id": "eUBdPHqUydVe"
      }
    },
    {
      "cell_type": "code",
      "source": [
        "#Criando um novo Dataframe e juntando os DF anteriores\n",
        "df_ben = pd.concat([df_ben1, df_ben2, df_ben3, df_ben4], ignore_index=True)\n",
        "df_ben.head() #df_ben[:5]"
      ],
      "metadata": {
        "colab": {
          "base_uri": "https://localhost:8080/",
          "height": 354
        },
        "id": "0QRlhbVKwgZX",
        "outputId": "c52e6853-7788-439d-d0d3-e6d869a0a269"
      },
      "execution_count": 32,
      "outputs": [
        {
          "output_type": "execute_result",
          "data": {
            "text/plain": [
              "   Competência concessão                                        Espécie  \\\n",
              "0                 202201  Auxílio Doenca Previdenciário                   \n",
              "1                 202201  Auxílio Doenca Previdenciário                   \n",
              "2                 202201  Auxílio Doenca Previdenciário                   \n",
              "3                 202201  Auxílio Doenca Previdenciário                   \n",
              "4                 202201  Auxílio Doenca Previdenciário                   \n",
              "\n",
              "                                             CID                Despacho  \\\n",
              "0  K40   Hernia Inguinal                          Revisao Administrativa   \n",
              "1  I25.9 Doenc Isquemica Cronica do Coracao Ne          Concessao Normal   \n",
              "2  S92.4 Frat do Halux                                  Concessao Normal   \n",
              "3  B34.2 Infecc p/Coronavirus Ne                        Concessao Normal   \n",
              "4  I83.2 Varizes Membros Infer c/Ulcera e Inflam  Revisao Administrativa   \n",
              "\n",
              "  Dt Nascimento          Sexo. Clientela           Tipo de Cálculo  \\\n",
              "0    1970-05-23  Masculino      Urbano    Calculo na Dib sem Fator   \n",
              "1    1962-08-31  Masculino      Rural     Rmi Informada/Salã¡Rio M   \n",
              "2    1997-10-15  Masculino      Urbano    Rmi Informada/Salã¡Rio M   \n",
              "3    1999-10-15  Masculino      Urbano    Calculo na Dib sem Fator   \n",
              "4    1975-04-04  Masculino      Urbano    Calculo na Dib sem Fator   \n",
              "\n",
              "                        Mun. Resid. Estado       Forma Filiação  Qt SM RMI  \n",
              "0  Arapiraca                            AL  Desempregado             1.183  \n",
              "1  Batalha                              AL  Segurado Especial        1.000  \n",
              "2  Arapiraca                            AL  Empregado                1.000  \n",
              "3  Arapiraca                            AL  Desempregado             1.000  \n",
              "4  Arapiraca                            AL  Autônomo                 1.000  "
            ],
            "text/html": [
              "\n",
              "  <div id=\"df-08bb6924-dafb-46ee-899b-157cc2697cf8\">\n",
              "    <div class=\"colab-df-container\">\n",
              "      <div>\n",
              "<style scoped>\n",
              "    .dataframe tbody tr th:only-of-type {\n",
              "        vertical-align: middle;\n",
              "    }\n",
              "\n",
              "    .dataframe tbody tr th {\n",
              "        vertical-align: top;\n",
              "    }\n",
              "\n",
              "    .dataframe thead th {\n",
              "        text-align: right;\n",
              "    }\n",
              "</style>\n",
              "<table border=\"1\" class=\"dataframe\">\n",
              "  <thead>\n",
              "    <tr style=\"text-align: right;\">\n",
              "      <th></th>\n",
              "      <th>Competência concessão</th>\n",
              "      <th>Espécie</th>\n",
              "      <th>CID</th>\n",
              "      <th>Despacho</th>\n",
              "      <th>Dt Nascimento</th>\n",
              "      <th>Sexo.</th>\n",
              "      <th>Clientela</th>\n",
              "      <th>Tipo de Cálculo</th>\n",
              "      <th>Mun. Resid.</th>\n",
              "      <th>Estado</th>\n",
              "      <th>Forma Filiação</th>\n",
              "      <th>Qt SM RMI</th>\n",
              "    </tr>\n",
              "  </thead>\n",
              "  <tbody>\n",
              "    <tr>\n",
              "      <th>0</th>\n",
              "      <td>202201</td>\n",
              "      <td>Auxílio Doenca Previdenciário</td>\n",
              "      <td>K40   Hernia Inguinal</td>\n",
              "      <td>Revisao Administrativa</td>\n",
              "      <td>1970-05-23</td>\n",
              "      <td>Masculino</td>\n",
              "      <td>Urbano</td>\n",
              "      <td>Calculo na Dib sem Fator</td>\n",
              "      <td>Arapiraca</td>\n",
              "      <td>AL</td>\n",
              "      <td>Desempregado</td>\n",
              "      <td>1.183</td>\n",
              "    </tr>\n",
              "    <tr>\n",
              "      <th>1</th>\n",
              "      <td>202201</td>\n",
              "      <td>Auxílio Doenca Previdenciário</td>\n",
              "      <td>I25.9 Doenc Isquemica Cronica do Coracao Ne</td>\n",
              "      <td>Concessao Normal</td>\n",
              "      <td>1962-08-31</td>\n",
              "      <td>Masculino</td>\n",
              "      <td>Rural</td>\n",
              "      <td>Rmi Informada/Salã¡Rio M</td>\n",
              "      <td>Batalha</td>\n",
              "      <td>AL</td>\n",
              "      <td>Segurado Especial</td>\n",
              "      <td>1.000</td>\n",
              "    </tr>\n",
              "    <tr>\n",
              "      <th>2</th>\n",
              "      <td>202201</td>\n",
              "      <td>Auxílio Doenca Previdenciário</td>\n",
              "      <td>S92.4 Frat do Halux</td>\n",
              "      <td>Concessao Normal</td>\n",
              "      <td>1997-10-15</td>\n",
              "      <td>Masculino</td>\n",
              "      <td>Urbano</td>\n",
              "      <td>Rmi Informada/Salã¡Rio M</td>\n",
              "      <td>Arapiraca</td>\n",
              "      <td>AL</td>\n",
              "      <td>Empregado</td>\n",
              "      <td>1.000</td>\n",
              "    </tr>\n",
              "    <tr>\n",
              "      <th>3</th>\n",
              "      <td>202201</td>\n",
              "      <td>Auxílio Doenca Previdenciário</td>\n",
              "      <td>B34.2 Infecc p/Coronavirus Ne</td>\n",
              "      <td>Concessao Normal</td>\n",
              "      <td>1999-10-15</td>\n",
              "      <td>Masculino</td>\n",
              "      <td>Urbano</td>\n",
              "      <td>Calculo na Dib sem Fator</td>\n",
              "      <td>Arapiraca</td>\n",
              "      <td>AL</td>\n",
              "      <td>Desempregado</td>\n",
              "      <td>1.000</td>\n",
              "    </tr>\n",
              "    <tr>\n",
              "      <th>4</th>\n",
              "      <td>202201</td>\n",
              "      <td>Auxílio Doenca Previdenciário</td>\n",
              "      <td>I83.2 Varizes Membros Infer c/Ulcera e Inflam</td>\n",
              "      <td>Revisao Administrativa</td>\n",
              "      <td>1975-04-04</td>\n",
              "      <td>Masculino</td>\n",
              "      <td>Urbano</td>\n",
              "      <td>Calculo na Dib sem Fator</td>\n",
              "      <td>Arapiraca</td>\n",
              "      <td>AL</td>\n",
              "      <td>Autônomo</td>\n",
              "      <td>1.000</td>\n",
              "    </tr>\n",
              "  </tbody>\n",
              "</table>\n",
              "</div>\n",
              "      <button class=\"colab-df-convert\" onclick=\"convertToInteractive('df-08bb6924-dafb-46ee-899b-157cc2697cf8')\"\n",
              "              title=\"Convert this dataframe to an interactive table.\"\n",
              "              style=\"display:none;\">\n",
              "        \n",
              "  <svg xmlns=\"http://www.w3.org/2000/svg\" height=\"24px\"viewBox=\"0 0 24 24\"\n",
              "       width=\"24px\">\n",
              "    <path d=\"M0 0h24v24H0V0z\" fill=\"none\"/>\n",
              "    <path d=\"M18.56 5.44l.94 2.06.94-2.06 2.06-.94-2.06-.94-.94-2.06-.94 2.06-2.06.94zm-11 1L8.5 8.5l.94-2.06 2.06-.94-2.06-.94L8.5 2.5l-.94 2.06-2.06.94zm10 10l.94 2.06.94-2.06 2.06-.94-2.06-.94-.94-2.06-.94 2.06-2.06.94z\"/><path d=\"M17.41 7.96l-1.37-1.37c-.4-.4-.92-.59-1.43-.59-.52 0-1.04.2-1.43.59L10.3 9.45l-7.72 7.72c-.78.78-.78 2.05 0 2.83L4 21.41c.39.39.9.59 1.41.59.51 0 1.02-.2 1.41-.59l7.78-7.78 2.81-2.81c.8-.78.8-2.07 0-2.86zM5.41 20L4 18.59l7.72-7.72 1.47 1.35L5.41 20z\"/>\n",
              "  </svg>\n",
              "      </button>\n",
              "      \n",
              "  <style>\n",
              "    .colab-df-container {\n",
              "      display:flex;\n",
              "      flex-wrap:wrap;\n",
              "      gap: 12px;\n",
              "    }\n",
              "\n",
              "    .colab-df-convert {\n",
              "      background-color: #E8F0FE;\n",
              "      border: none;\n",
              "      border-radius: 50%;\n",
              "      cursor: pointer;\n",
              "      display: none;\n",
              "      fill: #1967D2;\n",
              "      height: 32px;\n",
              "      padding: 0 0 0 0;\n",
              "      width: 32px;\n",
              "    }\n",
              "\n",
              "    .colab-df-convert:hover {\n",
              "      background-color: #E2EBFA;\n",
              "      box-shadow: 0px 1px 2px rgba(60, 64, 67, 0.3), 0px 1px 3px 1px rgba(60, 64, 67, 0.15);\n",
              "      fill: #174EA6;\n",
              "    }\n",
              "\n",
              "    [theme=dark] .colab-df-convert {\n",
              "      background-color: #3B4455;\n",
              "      fill: #D2E3FC;\n",
              "    }\n",
              "\n",
              "    [theme=dark] .colab-df-convert:hover {\n",
              "      background-color: #434B5C;\n",
              "      box-shadow: 0px 1px 3px 1px rgba(0, 0, 0, 0.15);\n",
              "      filter: drop-shadow(0px 1px 2px rgba(0, 0, 0, 0.3));\n",
              "      fill: #FFFFFF;\n",
              "    }\n",
              "  </style>\n",
              "\n",
              "      <script>\n",
              "        const buttonEl =\n",
              "          document.querySelector('#df-08bb6924-dafb-46ee-899b-157cc2697cf8 button.colab-df-convert');\n",
              "        buttonEl.style.display =\n",
              "          google.colab.kernel.accessAllowed ? 'block' : 'none';\n",
              "\n",
              "        async function convertToInteractive(key) {\n",
              "          const element = document.querySelector('#df-08bb6924-dafb-46ee-899b-157cc2697cf8');\n",
              "          const dataTable =\n",
              "            await google.colab.kernel.invokeFunction('convertToInteractive',\n",
              "                                                     [key], {});\n",
              "          if (!dataTable) return;\n",
              "\n",
              "          const docLinkHtml = 'Like what you see? Visit the ' +\n",
              "            '<a target=\"_blank\" href=https://colab.research.google.com/notebooks/data_table.ipynb>data table notebook</a>'\n",
              "            + ' to learn more about interactive tables.';\n",
              "          element.innerHTML = '';\n",
              "          dataTable['output_type'] = 'display_data';\n",
              "          await google.colab.output.renderOutput(dataTable, element);\n",
              "          const docLink = document.createElement('div');\n",
              "          docLink.innerHTML = docLinkHtml;\n",
              "          element.appendChild(docLink);\n",
              "        }\n",
              "      </script>\n",
              "    </div>\n",
              "  </div>\n",
              "  "
            ]
          },
          "metadata": {},
          "execution_count": 32
        }
      ]
    },
    {
      "cell_type": "markdown",
      "source": [
        "###2.3 - ANÁLISE INICIAL DOS DADOS\n"
      ],
      "metadata": {
        "id": "mBYYBB0CzBJH"
      }
    },
    {
      "cell_type": "code",
      "source": [
        "#Buscando as informações Básicas do DF: quantidade de linhas e colunas, os tipos de dados de cada coluna, etc.\n",
        "df_ben.info()"
      ],
      "metadata": {
        "colab": {
          "base_uri": "https://localhost:8080/"
        },
        "id": "5xodjYQ63tkd",
        "outputId": "f53a7e07-3a69-4855-c444-b7465dd83a10"
      },
      "execution_count": 33,
      "outputs": [
        {
          "output_type": "stream",
          "name": "stdout",
          "text": [
            "<class 'pandas.core.frame.DataFrame'>\n",
            "RangeIndex: 1883139 entries, 0 to 1883138\n",
            "Data columns (total 12 columns):\n",
            " #   Column                 Dtype         \n",
            "---  ------                 -----         \n",
            " 0   Competência concessão  int64         \n",
            " 1   Espécie                object        \n",
            " 2   CID                    object        \n",
            " 3   Despacho               object        \n",
            " 4   Dt Nascimento          datetime64[ns]\n",
            " 5   Sexo.                  object        \n",
            " 6   Clientela              object        \n",
            " 7   Tipo de Cálculo        object        \n",
            " 8   Mun. Resid.            object        \n",
            " 9   Estado                 object        \n",
            " 10  Forma Filiação         object        \n",
            " 11  Qt SM RMI              float64       \n",
            "dtypes: datetime64[ns](1), float64(1), int64(1), object(9)\n",
            "memory usage: 172.4+ MB\n"
          ]
        }
      ]
    },
    {
      "cell_type": "code",
      "source": [
        "#Verificar todos os valores nulos do DF\n",
        "df_ben.isnull().sum()"
      ],
      "metadata": {
        "colab": {
          "base_uri": "https://localhost:8080/"
        },
        "id": "oB48l2dDAqKr",
        "outputId": "97a3a143-3587-41bc-d967-271b2e32dd9f"
      },
      "execution_count": 34,
      "outputs": [
        {
          "output_type": "execute_result",
          "data": {
            "text/plain": [
              "Competência concessão     0\n",
              "Espécie                   0\n",
              "CID                       0\n",
              "Despacho                  0\n",
              "Dt Nascimento             0\n",
              "Sexo.                     0\n",
              "Clientela                 0\n",
              "Tipo de Cálculo           0\n",
              "Mun. Resid.              18\n",
              "Estado                    0\n",
              "Forma Filiação            0\n",
              "Qt SM RMI                 0\n",
              "dtype: int64"
            ]
          },
          "metadata": {},
          "execution_count": 34
        }
      ]
    },
    {
      "cell_type": "code",
      "source": [
        "#Verificar todos os valores NA do DF\n",
        "df_ben.isna().sum()"
      ],
      "metadata": {
        "colab": {
          "base_uri": "https://localhost:8080/"
        },
        "id": "8DnhVNJt17M_",
        "outputId": "ea428437-5e72-48b9-9911-66ab5085c8a4"
      },
      "execution_count": 35,
      "outputs": [
        {
          "output_type": "execute_result",
          "data": {
            "text/plain": [
              "Competência concessão     0\n",
              "Espécie                   0\n",
              "CID                       0\n",
              "Despacho                  0\n",
              "Dt Nascimento             0\n",
              "Sexo.                     0\n",
              "Clientela                 0\n",
              "Tipo de Cálculo           0\n",
              "Mun. Resid.              18\n",
              "Estado                    0\n",
              "Forma Filiação            0\n",
              "Qt SM RMI                 0\n",
              "dtype: int64"
            ]
          },
          "metadata": {},
          "execution_count": 35
        }
      ]
    },
    {
      "cell_type": "code",
      "source": [
        "df_ben['Despacho'].unique()"
      ],
      "metadata": {
        "colab": {
          "base_uri": "https://localhost:8080/"
        },
        "id": "hCuVKuX13vej",
        "outputId": "17078e00-dbbe-407a-f53b-86d5b17c0b72"
      },
      "execution_count": 36,
      "outputs": [
        {
          "output_type": "execute_result",
          "data": {
            "text/plain": [
              "array(['Revisao Administrativa', 'Concessao Normal', 'Acao Judicial',\n",
              "       'Revisão Médica', 'Recurso',\n",
              "       'Concessao com Diligencia (Rd ou Sp)     '], dtype=object)"
            ]
          },
          "metadata": {},
          "execution_count": 36
        }
      ]
    },
    {
      "cell_type": "code",
      "source": [
        "df_ben['Competência concessão'].unique()"
      ],
      "metadata": {
        "colab": {
          "base_uri": "https://localhost:8080/"
        },
        "id": "KjF1QNKFC1cv",
        "outputId": "bf10d7eb-9178-4ef7-80ad-6c0b8458e4a9"
      },
      "execution_count": 37,
      "outputs": [
        {
          "output_type": "execute_result",
          "data": {
            "text/plain": [
              "array([202201, 202202, 202203, 202204, 202205, 202206, 202207, 202208,\n",
              "       202209, 202210, 202211, 202212])"
            ]
          },
          "metadata": {},
          "execution_count": 37
        }
      ]
    },
    {
      "cell_type": "markdown",
      "source": [
        "##3 - PRÉ-PROCESSAMENTO\n",
        "\n",
        "---\n",
        "\n"
      ],
      "metadata": {
        "id": "GuQI2IJm0u9S"
      }
    },
    {
      "cell_type": "markdown",
      "source": [
        "### 3.1 - LIMPEZA DE DADOS"
      ],
      "metadata": {
        "id": "qrVLhWbh0Tgs"
      }
    },
    {
      "cell_type": "code",
      "source": [
        "#Apagar coluna Tipo de Cálculo\n",
        "df_ben = df_ben.drop(columns=['Tipo de Cálculo'])\n",
        "df_ben.columns"
      ],
      "metadata": {
        "colab": {
          "base_uri": "https://localhost:8080/"
        },
        "id": "hO614nRnA4U-",
        "outputId": "02eb39d0-e873-41d5-e39e-dcccf0f5a487"
      },
      "execution_count": 38,
      "outputs": [
        {
          "output_type": "execute_result",
          "data": {
            "text/plain": [
              "Index(['Competência concessão', 'Espécie', 'CID', 'Despacho', 'Dt Nascimento',\n",
              "       'Sexo.', 'Clientela', 'Mun. Resid.', 'Estado', 'Forma Filiação',\n",
              "       'Qt SM RMI'],\n",
              "      dtype='object')"
            ]
          },
          "metadata": {},
          "execution_count": 38
        }
      ]
    },
    {
      "cell_type": "code",
      "source": [
        "#Trocando os nomes das colunas\n",
        "#lista_colunas = ['Competência concessão', 'Espécie', 'CID', 'Despacho', 'Dt Nascimento','Sexo.', 'Clientela','Tipo de Cálculo', 'Mun. Resid.', 'Estado','Forma Filiação', 'Qt SM RMI']\n",
        "#df_ben = df_ben[lista_colunas]\n",
        "df_ben = df_ben.rename(columns={'Competência concessão':'Competência','Sexo.':'Sexo','Clientela':'Zona','Forma Filiação':'Filiação'})\n",
        "df_ben.columns"
      ],
      "metadata": {
        "colab": {
          "base_uri": "https://localhost:8080/"
        },
        "outputId": "4f6de2e2-74be-432f-d986-5d782fe4a6f0",
        "id": "kOwfroA_2k8H"
      },
      "execution_count": 39,
      "outputs": [
        {
          "output_type": "execute_result",
          "data": {
            "text/plain": [
              "Index(['Competência', 'Espécie', 'CID', 'Despacho', 'Dt Nascimento', 'Sexo',\n",
              "       'Zona', 'Mun. Resid.', 'Estado', 'Filiação', 'Qt SM RMI'],\n",
              "      dtype='object')"
            ]
          },
          "metadata": {},
          "execution_count": 39
        }
      ]
    },
    {
      "cell_type": "code",
      "source": [
        "df_ben['CID'] = df_ben['CID'].str.strip() #Apaga espaços em branco no inicio e fim da linha conforme coluna\n",
        "cid_ord = df_ben['CID'].value_counts()\n",
        "#cid_ord"
      ],
      "metadata": {
        "colab": {
          "base_uri": "https://localhost:8080/"
        },
        "id": "56YjV-nO-9_0",
        "outputId": "258608da-b98a-4c56-9a81-91be4e285346"
      },
      "execution_count": 40,
      "outputs": [
        {
          "output_type": "execute_result",
          "data": {
            "text/plain": [
              "Em Branco                                        149488\n",
              "D25   Leiomioma do Utero                          34125\n",
              "S52.5 Frat da Extremidade Distal do Radio         29799\n",
              "M54.5 Dor Lombar Baixa                            29286\n",
              "M51.1 Transt Disco Lombar Outr Intervert Radi     28793\n",
              "                                                  ...  \n",
              "N29.1 Outr Transt Rim Ureter Doenc Infec Para         1\n",
              "F13.8 Outr Transt Mentais ou Comport                  1\n",
              "I01.0 Pericardite Reumatica Aguda                     1\n",
              "B26.8 Caxumba c/Outr Complic                          1\n",
              "J05.1 Epiglotite Aguda                                1\n",
              "Name: CID, Length: 7701, dtype: int64"
            ]
          },
          "metadata": {},
          "execution_count": 40
        }
      ]
    },
    {
      "cell_type": "code",
      "source": [
        "#Apaga todas as linhas que tenham valor NaN (Missings)\n",
        "df_ben = df_ben.dropna()\n",
        "df_ben.isna().sum()\n",
        "df_ben.shape"
      ],
      "metadata": {
        "colab": {
          "base_uri": "https://localhost:8080/"
        },
        "id": "CB71XCuP4E7e",
        "outputId": "f95f1019-5449-4390-a171-b52ec6268348"
      },
      "execution_count": 41,
      "outputs": [
        {
          "output_type": "execute_result",
          "data": {
            "text/plain": [
              "(1883121, 11)"
            ]
          },
          "metadata": {},
          "execution_count": 41
        }
      ]
    },
    {
      "cell_type": "code",
      "source": [
        "#Muda o Tipo da coluna competencia para Objeto (String) \n",
        "df_ben['Competência'] = df_ben['Competência'].astype(str)\n",
        "df_ben['Competência'] = df_ben['Competência'].str.replace('2022','')\n",
        "#df_ben.info()\n",
        "df_ben['Competência'].unique()"
      ],
      "metadata": {
        "colab": {
          "base_uri": "https://localhost:8080/"
        },
        "id": "ahebaYnG8RHI",
        "outputId": "15fdc0e5-b669-468e-cffe-36ef001f249b"
      },
      "execution_count": 42,
      "outputs": [
        {
          "output_type": "execute_result",
          "data": {
            "text/plain": [
              "array(['01', '02', '03', '04', '05', '06', '07', '08', '09', '10', '11',\n",
              "       '12'], dtype=object)"
            ]
          },
          "metadata": {},
          "execution_count": 42
        }
      ]
    },
    {
      "cell_type": "code",
      "source": [
        "#Verificando os valores numéricos do atributo Qt SM RMI\n",
        "df_ben['Qt SM RMI'].describe()"
      ],
      "metadata": {
        "colab": {
          "base_uri": "https://localhost:8080/"
        },
        "id": "CjB5YC4nDqDr",
        "outputId": "8aeb5f5d-4659-43ce-f82c-f935ee6e3a2b"
      },
      "execution_count": 43,
      "outputs": [
        {
          "output_type": "execute_result",
          "data": {
            "text/plain": [
              "count    1.883121e+06\n",
              "mean     1.423869e+00\n",
              "std      6.924445e-01\n",
              "min      9.000000e-02\n",
              "25%      1.000000e+00\n",
              "50%      1.140000e+00\n",
              "75%      1.540000e+00\n",
              "max      7.572000e+00\n",
              "Name: Qt SM RMI, dtype: float64"
            ]
          },
          "metadata": {},
          "execution_count": 43
        }
      ]
    },
    {
      "cell_type": "markdown",
      "source": [
        "## 3.2 - Plotando os gráficos"
      ],
      "metadata": {
        "id": "ApwWTsUFEBa9"
      }
    },
    {
      "cell_type": "code",
      "source": [
        "#Plota o gráfico em Histograma de processos concluídos por mês\n",
        "plt.hist(df_ben['Competência'], bins=12, edgecolor='yellow', color='blue') \n",
        "#competencia = df_ben['Competência'].value_counts() #\n",
        "#display(competencia)\n",
        "#competencia.plot(figsize=(15,5))\n",
        "plt.title('Processos concluídos por mês')\n",
        "plt.xlabel('Mês de 2022')\n",
        "#plt.legend('Processos concluídos por mês'); "
      ],
      "metadata": {
        "colab": {
          "base_uri": "https://localhost:8080/",
          "height": 472
        },
        "id": "XcKoy6r2GR3p",
        "outputId": "60b148bc-d346-415d-d225-4c491263e66b"
      },
      "execution_count": 44,
      "outputs": [
        {
          "output_type": "display_data",
          "data": {
            "text/plain": [
              "<Figure size 640x480 with 1 Axes>"
            ],
            "image/png": "[encoded data removed]"
          },
          "metadata": {}
        }
      ]
    },
    {
      "cell_type": "code",
      "source": [
        "#Plota o gráfico em Histograma de processos concluídos por Espécie\n",
        "plt.hist(df_ben['Espécie'], bins=2, edgecolor='yellow', color='blue') \n",
        "plt.title('Processos concluídos por Espécie')\n",
        "plt.xlabel('Espécies: B31 e B91')\n",
        "#plt.legend('B31');"
      ],
      "metadata": {
        "colab": {
          "base_uri": "https://localhost:8080/",
          "height": 490
        },
        "id": "eZq3tHvSHqSG",
        "outputId": "b5e0ff61-cbb5-46c0-a596-b5852ede225a"
      },
      "execution_count": 45,
      "outputs": [
        {
          "output_type": "execute_result",
          "data": {
            "text/plain": [
              "Text(0.5, 0, 'Espécies: B31 e B91')"
            ]
          },
          "metadata": {},
          "execution_count": 45
        },
        {
          "output_type": "display_data",
          "data": {
            "text/plain": [
              "<Figure size 640x480 with 1 Axes>"
            ],
            "image/png": "[encoded data removed]"
          },
          "metadata": {}
        }
      ]
    },
    {
      "cell_type": "code",
      "source": [
        "#QTD por despacho\n",
        "despacho = df_ben['Despacho'].value_counts()\n",
        "despacho.plot(figsize=(14,5))\n",
        "plt.title('Processos Concedidos por Despacho')\n",
        "plt.xlabel('Tipos de Despacho')\n",
        "df_ben['Despacho'].value_counts()"
      ],
      "metadata": {
        "colab": {
          "base_uri": "https://localhost:8080/",
          "height": 609
        },
        "id": "tmXM4MsOTdCP",
        "outputId": "c449f547-802c-470f-c830-47dde11aa528"
      },
      "execution_count": 46,
      "outputs": [
        {
          "output_type": "execute_result",
          "data": {
            "text/plain": [
              "Concessao Normal                            1659047\n",
              "Acao Judicial                                162432\n",
              "Revisao Administrativa                        58387\n",
              "Recurso                                        3212\n",
              "Revisão Médica                                   42\n",
              "Concessao com Diligencia (Rd ou Sp)               1\n",
              "Name: Despacho, dtype: int64"
            ]
          },
          "metadata": {},
          "execution_count": 46
        },
        {
          "output_type": "display_data",
          "data": {
            "text/plain": [
              "<Figure size 1400x500 with 1 Axes>"
            ],
            "image/png": "[encoded data removed]"
          },
          "metadata": {}
        }
      ]
    },
    {
      "cell_type": "code",
      "source": [
        "#Plota o gráfico em Histograma de processos concluídos por Sexo\n",
        "plt.hist(df_ben['Sexo'], bins=2, edgecolor='yellow', color='blue') \n",
        "plt.title('Processos Concedidos por Sexo')\n",
        "plt.xlabel('Sexo')"
      ],
      "metadata": {
        "colab": {
          "base_uri": "https://localhost:8080/",
          "height": 489
        },
        "id": "d44xjCNkIQK0",
        "outputId": "29c4966c-f6aa-425e-a4b9-84b90fd7a446"
      },
      "execution_count": 47,
      "outputs": [
        {
          "output_type": "execute_result",
          "data": {
            "text/plain": [
              "Text(0.5, 0, 'Sexo')"
            ]
          },
          "metadata": {},
          "execution_count": 47
        },
        {
          "output_type": "display_data",
          "data": {
            "text/plain": [
              "<Figure size 640x480 with 1 Axes>"
            ],
            "image/png": "[encoded data removed]"
          },
          "metadata": {}
        }
      ]
    },
    {
      "cell_type": "code",
      "source": [
        "#Plota o gráfico em Histograma de processos concluídos por Filiação\n",
        "#plt.hist(df_ben['Filiação'], bins=10, edgecolor='green', color='blue') \n",
        "plt.title('Processos Concedidos por Sexo')\n",
        "plt.xlabel('Sexo')\n",
        "df_ben['Filiação'].unique()\n",
        "filiacao = df_ben['Filiação'].value_counts()\n",
        "filiacao.plot(figsize=(14,5), kind='bar')"
      ],
      "metadata": {
        "id": "BpUGXUYnUY50"
      },
      "execution_count": null,
      "outputs": []
    },
    {
      "cell_type": "code",
      "source": [
        "#Plota o gráfico em Histograma de processos concluídos por Estado\n",
        "plt.hist(df_ben['Estado'], bins=28, edgecolor='green', color='blue') "
      ],
      "metadata": {
        "id": "I0CeY68dVJtu",
        "colab": {
          "base_uri": "https://localhost:8080/",
          "height": 621
        },
        "outputId": "fedf6c68-29e8-40ba-ac5c-26915427e9c2"
      },
      "execution_count": 49,
      "outputs": [
        {
          "output_type": "execute_result",
          "data": {
            "text/plain": [
              "(array([ 19875.,  89881., 133843.,  12611.,  50634.,  55735.,  27169.,\n",
              "         33448.,  12695.,  29703.,  13542.,   3934.,  67335.,      0.,\n",
              "         21567., 462876.,  40695., 268172.,  25513.,  23077.,   7422.,\n",
              "         25259.,  33364., 163310.,   2797., 126923., 129896.,   1845.]),\n",
              " array([ 0.        ,  0.92857143,  1.85714286,  2.78571429,  3.71428571,\n",
              "         4.64285714,  5.57142857,  6.5       ,  7.42857143,  8.35714286,\n",
              "         9.28571429, 10.21428571, 11.14285714, 12.07142857, 13.        ,\n",
              "        13.92857143, 14.85714286, 15.78571429, 16.71428571, 17.64285714,\n",
              "        18.57142857, 19.5       , 20.42857143, 21.35714286, 22.28571429,\n",
              "        23.21428571, 24.14285714, 25.07142857, 26.        ]),\n",
              " <BarContainer object of 28 artists>)"
            ]
          },
          "metadata": {},
          "execution_count": 49
        },
        {
          "output_type": "display_data",
          "data": {
            "text/plain": [
              "<Figure size 640x480 with 1 Axes>"
            ],
            "image/png": "[encoded data removed]"
          },
          "metadata": {}
        }
      ]
    },
    {
      "cell_type": "code",
      "source": [
        "#Plota o gráfico em Histograma de processos concluídos por Zona\n",
        "plt.hist(df_ben['Zona'], bins=2, edgecolor='green', color='blue') "
      ],
      "metadata": {
        "id": "uDE3HKq5T8ok",
        "colab": {
          "base_uri": "https://localhost:8080/",
          "height": 497
        },
        "outputId": "faf13932-d489-4e1f-c8cb-31c7276c5d2d"
      },
      "execution_count": 50,
      "outputs": [
        {
          "output_type": "execute_result",
          "data": {
            "text/plain": [
              "(array([1750292.,  132829.]),\n",
              " array([0. , 0.5, 1. ]),\n",
              " <BarContainer object of 2 artists>)"
            ]
          },
          "metadata": {},
          "execution_count": 50
        },
        {
          "output_type": "display_data",
          "data": {
            "text/plain": [
              "<Figure size 640x480 with 1 Axes>"
            ],
            "image/png": "[encoded data removed]"
          },
          "metadata": {}
        }
      ]
    },
    {
      "cell_type": "code",
      "source": [
        "#Ver como plotar grafico de barras entre espécie e sexo\n",
        "#plt.bar(df_ben['Espécie'],df_ben['Sexo'])"
      ],
      "metadata": {
        "id": "FwEn-wDEEdEi"
      },
      "execution_count": 51,
      "outputs": []
    },
    {
      "cell_type": "code",
      "source": [
        "#Plota Gráfico de dispersão Sexo por RMI\n",
        "plt.scatter(df_ben['Sexo'],df_ben['Qt SM RMI'])"
      ],
      "metadata": {
        "id": "c9M3x6o2LL_D",
        "colab": {
          "base_uri": "https://localhost:8080/",
          "height": 447
        },
        "outputId": "02ebf080-f54f-40cc-c182-b368869e4318"
      },
      "execution_count": 52,
      "outputs": [
        {
          "output_type": "execute_result",
          "data": {
            "text/plain": [
              "<matplotlib.collections.PathCollection at 0x7f55be1e15d0>"
            ]
          },
          "metadata": {},
          "execution_count": 52
        },
        {
          "output_type": "display_data",
          "data": {
            "text/plain": [
              "<Figure size 640x480 with 1 Axes>"
            ],
            "image/png": "[encoded data removed]"
          },
          "metadata": {}
        }
      ]
    },
    {
      "cell_type": "code",
      "source": [
        "#Plota Gráfico de dispersão Sexo por RMI\n",
        "plt.scatter(df_ben['Qt SM RMI'],df_ben['Competência'])"
      ],
      "metadata": {
        "id": "dV4xTpH0Niuy",
        "colab": {
          "base_uri": "https://localhost:8080/",
          "height": 447
        },
        "outputId": "a53fe049-b4bb-40d9-9cc2-1805221c3351"
      },
      "execution_count": 53,
      "outputs": [
        {
          "output_type": "execute_result",
          "data": {
            "text/plain": [
              "<matplotlib.collections.PathCollection at 0x7f5597f96f80>"
            ]
          },
          "metadata": {},
          "execution_count": 53
        },
        {
          "output_type": "display_data",
          "data": {
            "text/plain": [
              "<Figure size 640x480 with 1 Axes>"
            ],
            "image/png": "[encoded data removed]"
          },
          "metadata": {}
        }
      ]
    },
    {
      "cell_type": "code",
      "source": [
        "plt.scatter(df_ben['Qt SM RMI'],df_ben['Qt SM RMI'])"
      ],
      "metadata": {
        "id": "bcd6K2c8OsBW",
        "colab": {
          "base_uri": "https://localhost:8080/",
          "height": 447
        },
        "outputId": "6b525139-4185-4101-c483-30027c86cdcd"
      },
      "execution_count": 54,
      "outputs": [
        {
          "output_type": "execute_result",
          "data": {
            "text/plain": [
              "<matplotlib.collections.PathCollection at 0x7f55c3684ca0>"
            ]
          },
          "metadata": {},
          "execution_count": 54
        },
        {
          "output_type": "display_data",
          "data": {
            "text/plain": [
              "<Figure size 640x480 with 1 Axes>"
            ],
            "image/png": "[encoded data removed]"
          },
          "metadata": {}
        }
      ]
    },
    {
      "cell_type": "code",
      "source": [
        "df_ben['Competência'].nunique()"
      ],
      "metadata": {
        "id": "yTG3XzB_ZhGu",
        "colab": {
          "base_uri": "https://localhost:8080/"
        },
        "outputId": "154c8cf6-0249-4e11-ef35-61716b707e6d"
      },
      "execution_count": 55,
      "outputs": [
        {
          "output_type": "execute_result",
          "data": {
            "text/plain": [
              "12"
            ]
          },
          "metadata": {},
          "execution_count": 55
        }
      ]
    },
    {
      "cell_type": "code",
      "source": [
        "#plt.bar(df_ben['Espécie'],df_ben['Sexo'])"
      ],
      "metadata": {
        "id": "B55GMIUnCtEX"
      },
      "execution_count": 56,
      "outputs": []
    },
    {
      "cell_type": "code",
      "source": [
        "plt.pie (df_ben['Competência'], labels= df_ben['Competência']) "
      ],
      "metadata": {
        "id": "kwaeirK6KRbv"
      },
      "execution_count": null,
      "outputs": []
    },
    {
      "cell_type": "code",
      "source": [
        "#Valores de SM por Mês\n",
        "plt.plot(df_ben['Competência'],df_ben['Qt SM RMI'])"
      ],
      "metadata": {
        "id": "6e10O9aUPrmB"
      },
      "execution_count": null,
      "outputs": []
    },
    {
      "cell_type": "code",
      "source": [
        "#Valores de SM médio por Mês\n",
        "#RMI = df_ben['Qt SM RMI'].mean()\n",
        "#plt.plot(df_ben['Competência'],RMI)"
      ],
      "metadata": {
        "id": "HNG5K1YQawNt"
      },
      "execution_count": null,
      "outputs": []
    },
    {
      "cell_type": "code",
      "source": [
        "df_ben.to_csv('df_beneficio.csv', sep=';')"
      ],
      "metadata": {
        "id": "ffufjbysfpti"
      },
      "execution_count": null,
      "outputs": []
    },
    {
      "cell_type": "markdown",
      "source": [
        "### 4 - ML - Treino e Teste\n",
        "\n",
        "---\n",
        "\n"
      ],
      "metadata": {
        "id": "9aqk38gBDl0H"
      }
    }
  ]
}